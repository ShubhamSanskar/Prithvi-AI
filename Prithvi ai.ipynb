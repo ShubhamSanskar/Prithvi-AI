{
 "cells": [
  {
   "cell_type": "markdown",
   "id": "05f2e99a",
   "metadata": {},
   "source": [
    "Flask:\n",
    "\n",
    "Package Installation: %pip install flask\n",
    "Explanation: Flask is a micro web framework for Python. It allows you to easily build web applications. In this program, Flask is used to create a simple web server with routes for handling both GET and POST requests. The Flask class is used to create the web application, and the @app.route decorator is used to define the routes.\n",
    "OpenAI:\n",
    "\n",
    "Package Installation: %pip install openai\n",
    "Explanation: OpenAI is an artificial intelligence research lab. In this program, the OpenAI API is used to interact with the GPT-3.5 language model. The openai module is imported, and the API key is set using openai.api_key. The openai.Completion.create method is then used to make requests to the OpenAI API for text completion. It sends a prompt to the GPT-3.5 model, and the model generates a completion based on the given prompt.\n",
    "jsonify (from Flask):\n",
    "\n",
    "Explanation: jsonify is a method provided by Flask for creating JSON responses. In the program, it is used to format the AI's answer as JSON before sending it as the response to the client.\n",
    "requests (from Flask):\n",
    "\n",
    "Explanation: request is a module provided by Flask that allows you to access incoming request data. In the program, request.method is used to determine whether the incoming request is a GET or POST request, and request.get_json() is used to retrieve JSON data from the POST request.\n",
    "Other Built-in Python Modules:\n",
    "\n",
    "Explanation: The program also uses built-in Python modules like os and random. In this specific version of the code, they are not utilized, but they might be used in more complex applications.\n",
    "In summary, Flask is used to handle HTTP requests and responses, while the OpenAI package facilitates communication with the GPT-3.5 language model to generate answers based on user queries. The jsonify and request modules from Flask help in formatting responses and accessing request data, respectively."
   ]
  },
  {
   "cell_type": "code",
   "execution_count": 2,
   "id": "328d69a0",
   "metadata": {},
   "outputs": [
    {
     "name": "stdout",
     "output_type": "stream",
     "text": [
      " * Serving Flask app '__main__'\n",
      " * Debug mode: on\n"
     ]
    },
    {
     "name": "stderr",
     "output_type": "stream",
     "text": [
      "WARNING: This is a development server. Do not use it in a production deployment. Use a production WSGI server instead.\n",
      " * Running on http://127.0.0.1:5000\n",
      "Press CTRL+C to quit\n",
      " * Restarting with stat\n"
     ]
    },
    {
     "ename": "SystemExit",
     "evalue": "1",
     "output_type": "error",
     "traceback": [
      "An exception has occurred, use %tb to see the full traceback.\n",
      "\u001b[1;31mSystemExit\u001b[0m\u001b[1;31m:\u001b[0m 1\n"
     ]
    }
   ],
   "source": [
    "# Install required packages using pip\n",
    "# %pip install flask\n",
    "# %pip install openai\n",
    "\n",
    "# Import necessary modules\n",
    "from flask import Flask, request, jsonify\n",
    "import openai\n",
    "\n",
    "# Create a Flask web application\n",
    "app = Flask(__name__)\n",
    "\n",
    "# Set your OpenAI API key\n",
    "openai.api_key = 'Api Key'\n",
    "\n",
    "# Define a variable context that contains information to help answer questions\n",
    "context = \"\"\"\n",
    "    Context: This is a variable context that contains information to help answer questions. \n",
    "\"\"\"\n",
    "\n",
    "# Define the main route for both GET and POST requests\n",
    "@app.route('/', methods=['GET', 'POST'])\n",
    "def index():\n",
    "    # Handle GET requests\n",
    "    if request.method == 'GET':\n",
    "        return \"Prithvi Welcomes You!\"\n",
    "\n",
    "    # Handle POST requests\n",
    "    elif request.method == 'POST':\n",
    "        # Get JSON data from the request\n",
    "        data = request.get_json()\n",
    "\n",
    "        # Extract the question from the JSON data\n",
    "        question = data.get('question', '')\n",
    "\n",
    "        # Create a prompt for OpenAI based on the provided question\n",
    "        prompt = f\"{context}\\n\\nYou are a helpful AI that answers questions. Ask me anything: {question}\"\n",
    "\n",
    "        # Make a request to the OpenAI API for text completion\n",
    "        response = openai.Completion.create(\n",
    "            engine=\"text-davinci-002\",  # Specify the OpenAI engine\n",
    "            prompt=prompt,\n",
    "            max_tokens=100,  # Limit the maximum number of tokens in the response\n",
    "            n=1,\n",
    "            stop=None,\n",
    "        )\n",
    "\n",
    "        # Extract the answer from the OpenAI API response\n",
    "        answer = response['choices'][0]['text']\n",
    "\n",
    "        # Return the answer as JSON\n",
    "        return jsonify({'answer': answer})\n",
    "\n",
    "# Run the Flask application if the script is executed directly\n",
    "if __name__ == '__main__':\n",
    "    app.run(debug=True)\n"
   ]
  },
  {
   "cell_type": "code",
   "execution_count": null,
   "id": "db09ebf1",
   "metadata": {},
   "outputs": [],
   "source": []
  }
 ],
 "metadata": {
  "kernelspec": {
   "display_name": "Python 3 (ipykernel)",
   "language": "python",
   "name": "python3"
  },
  "language_info": {
   "codemirror_mode": {
    "name": "ipython",
    "version": 3
   },
   "file_extension": ".py",
   "mimetype": "text/x-python",
   "name": "python",
   "nbconvert_exporter": "python",
   "pygments_lexer": "ipython3",
   "version": "3.9.18"
  }
 },
 "nbformat": 4,
 "nbformat_minor": 5
}
